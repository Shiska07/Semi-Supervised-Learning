{
 "cells": [
  {
   "cell_type": "code",
   "execution_count": 38,
   "id": "90320939",
   "metadata": {},
   "outputs": [],
   "source": [
    "import numpy as np\n",
    "import pandas as pd\n",
    "import matplotlib.pyplot as plt\n",
    "import seaborn as sns\n",
    "import rdkit\n",
    "from rdkit import Chem\n",
    "%matplotlib inline"
   ]
  },
  {
   "cell_type": "code",
   "execution_count": 39,
   "id": "d35421f6",
   "metadata": {},
   "outputs": [],
   "source": [
    "import rdkit\n",
    "from rdkit import Chem\n",
    "smi = \"O=C(O)c1ccc(N2CCC(Oc3ccccc3C(F)(F)F)CC2)nn1\""
   ]
  },
  {
   "cell_type": "code",
   "execution_count": 40,
   "id": "d27d40f1",
   "metadata": {},
   "outputs": [
    {
     "data": {
      "image/png": "[encoded data removed]",
      "text/plain": [
       "<rdkit.Chem.rdchem.Mol at 0x18bbffa3370>"
      ]
     },
     "execution_count": 40,
     "metadata": {},
     "output_type": "execute_result"
    }
   ],
   "source": [
    "mol_from_smi = Chem.MolFromSmiles(smi)\n",
    "mol_from_smi"
   ]
  },
  {
   "cell_type": "code",
   "execution_count": 41,
   "id": "59b61468",
   "metadata": {},
   "outputs": [
    {
     "data": {
      "text/plain": [
       "'O=C(O)c1ccc(N2CCC(Oc3ccccc3C(F)(F)F)CC2)nn1'"
      ]
     },
     "execution_count": 41,
     "metadata": {},
     "output_type": "execute_result"
    }
   ],
   "source": [
    "smi_from_mol = Chem.MolToSmiles(mol_from_smi)\n",
    "smi_from_mol"
   ]
  },
  {
   "cell_type": "markdown",
   "id": "677a4929",
   "metadata": {},
   "source": [
    "### Load Labeled Data"
   ]
  },
  {
   "cell_type": "code",
   "execution_count": 42,
   "id": "ca5e8310",
   "metadata": {},
   "outputs": [
    {
     "data": {
      "text/html": [
       "<div>\n",
       "<style scoped>\n",
       "    .dataframe tbody tr th:only-of-type {\n",
       "        vertical-align: middle;\n",
       "    }\n",
       "\n",
       "    .dataframe tbody tr th {\n",
       "        vertical-align: top;\n",
       "    }\n",
       "\n",
       "    .dataframe thead th {\n",
       "        text-align: right;\n",
       "    }\n",
       "</style>\n",
       "<table border=\"1\" class=\"dataframe\">\n",
       "  <thead>\n",
       "    <tr style=\"text-align: right;\">\n",
       "      <th></th>\n",
       "      <th>SMILES</th>\n",
       "      <th>pIC50</th>\n",
       "    </tr>\n",
       "  </thead>\n",
       "  <tbody>\n",
       "    <tr>\n",
       "      <th>0</th>\n",
       "      <td>O=C(O)c1ccc(N2CCC(Oc3ccccc3C(F)(F)F)CC2)nn1</td>\n",
       "      <td>5.00</td>\n",
       "    </tr>\n",
       "    <tr>\n",
       "      <th>1</th>\n",
       "      <td>O=C(NCC1CC1)c1ccc(N2CCN(C(=O)c3ccccc3C(F)(F)F)...</td>\n",
       "      <td>5.06</td>\n",
       "    </tr>\n",
       "    <tr>\n",
       "      <th>2</th>\n",
       "      <td>O=C(O)c1cncc(-c2ccc(N3CCC(Oc4ccccc4C(F)(F)F)CC...</td>\n",
       "      <td>5.07</td>\n",
       "    </tr>\n",
       "    <tr>\n",
       "      <th>3</th>\n",
       "      <td>O=C(O)CCCCCc1nc(-c2cn(Cc3cc(Br)c(Br)c(Br)c3)nn...</td>\n",
       "      <td>5.08</td>\n",
       "    </tr>\n",
       "    <tr>\n",
       "      <th>4</th>\n",
       "      <td>Cc1ccc(C(=O)Nc2ncc(Cc3cccc(C(F)(F)F)c3)s2)cc1C</td>\n",
       "      <td>5.09</td>\n",
       "    </tr>\n",
       "  </tbody>\n",
       "</table>\n",
       "</div>"
      ],
      "text/plain": [
       "                                              SMILES  pIC50\n",
       "0        O=C(O)c1ccc(N2CCC(Oc3ccccc3C(F)(F)F)CC2)nn1   5.00\n",
       "1  O=C(NCC1CC1)c1ccc(N2CCN(C(=O)c3ccccc3C(F)(F)F)...   5.06\n",
       "2  O=C(O)c1cncc(-c2ccc(N3CCC(Oc4ccccc4C(F)(F)F)CC...   5.07\n",
       "3  O=C(O)CCCCCc1nc(-c2cn(Cc3cc(Br)c(Br)c(Br)c3)nn...   5.08\n",
       "4     Cc1ccc(C(=O)Nc2ncc(Cc3cccc(C(F)(F)F)c3)s2)cc1C   5.09"
      ]
     },
     "execution_count": 42,
     "metadata": {},
     "output_type": "execute_result"
    }
   ],
   "source": [
    "D_s = pd.read_csv('SCD1_clean_pIC50.csv')\n",
    "D_s.head()"
   ]
  },
  {
   "cell_type": "code",
   "execution_count": 43,
   "id": "c3348f05",
   "metadata": {},
   "outputs": [
    {
     "name": "stdout",
     "output_type": "stream",
     "text": [
      "<class 'pandas.core.frame.DataFrame'>\n",
      "RangeIndex: 642 entries, 0 to 641\n",
      "Data columns (total 2 columns):\n",
      " #   Column  Non-Null Count  Dtype  \n",
      "---  ------  --------------  -----  \n",
      " 0   SMILES  642 non-null    object \n",
      " 1   pIC50   642 non-null    float64\n",
      "dtypes: float64(1), object(1)\n",
      "memory usage: 10.2+ KB\n"
     ]
    }
   ],
   "source": [
    "D_s.info()"
   ]
  },
  {
   "cell_type": "markdown",
   "id": "4c6beb29",
   "metadata": {},
   "source": [
    "### Functions to create additional labels"
   ]
  },
  {
   "cell_type": "code",
   "execution_count": 44,
   "id": "f8e4a005",
   "metadata": {},
   "outputs": [],
   "source": [
    "# to calculate molecular weight\n",
    "from rdkit.Chem import Descriptors\n",
    "\n",
    "def get_label(pic50):\n",
    "    if pic50 >= 7.0:\n",
    "        return int(1)\n",
    "    else:\n",
    "        return int(0)\n",
    "    \n",
    "def get_molecular_weight(smi):\n",
    "    mol = Chem.MolFromSmiles(smi)\n",
    "    return float(Descriptors.MolWt(mol))"
   ]
  },
  {
   "cell_type": "code",
   "execution_count": 45,
   "id": "f490b51f",
   "metadata": {},
   "outputs": [],
   "source": [
    "D_s['smile_length'] = D_s['SMILES'].apply(lambda x: len(x))"
   ]
  },
  {
   "cell_type": "code",
   "execution_count": 46,
   "id": "7ea42722",
   "metadata": {},
   "outputs": [
    {
     "data": {
      "text/html": [
       "<div>\n",
       "<style scoped>\n",
       "    .dataframe tbody tr th:only-of-type {\n",
       "        vertical-align: middle;\n",
       "    }\n",
       "\n",
       "    .dataframe tbody tr th {\n",
       "        vertical-align: top;\n",
       "    }\n",
       "\n",
       "    .dataframe thead th {\n",
       "        text-align: right;\n",
       "    }\n",
       "</style>\n",
       "<table border=\"1\" class=\"dataframe\">\n",
       "  <thead>\n",
       "    <tr style=\"text-align: right;\">\n",
       "      <th></th>\n",
       "      <th>SMILES</th>\n",
       "      <th>pIC50</th>\n",
       "      <th>smile_length</th>\n",
       "    </tr>\n",
       "  </thead>\n",
       "  <tbody>\n",
       "    <tr>\n",
       "      <th>0</th>\n",
       "      <td>O=C(O)c1ccc(N2CCC(Oc3ccccc3C(F)(F)F)CC2)nn1</td>\n",
       "      <td>5.00</td>\n",
       "      <td>43</td>\n",
       "    </tr>\n",
       "    <tr>\n",
       "      <th>1</th>\n",
       "      <td>O=C(NCC1CC1)c1ccc(N2CCN(C(=O)c3ccccc3C(F)(F)F)...</td>\n",
       "      <td>5.06</td>\n",
       "      <td>53</td>\n",
       "    </tr>\n",
       "    <tr>\n",
       "      <th>2</th>\n",
       "      <td>O=C(O)c1cncc(-c2ccc(N3CCC(Oc4ccccc4C(F)(F)F)CC...</td>\n",
       "      <td>5.07</td>\n",
       "      <td>54</td>\n",
       "    </tr>\n",
       "    <tr>\n",
       "      <th>3</th>\n",
       "      <td>O=C(O)CCCCCc1nc(-c2cn(Cc3cc(Br)c(Br)c(Br)c3)nn...</td>\n",
       "      <td>5.08</td>\n",
       "      <td>51</td>\n",
       "    </tr>\n",
       "    <tr>\n",
       "      <th>4</th>\n",
       "      <td>Cc1ccc(C(=O)Nc2ncc(Cc3cccc(C(F)(F)F)c3)s2)cc1C</td>\n",
       "      <td>5.09</td>\n",
       "      <td>46</td>\n",
       "    </tr>\n",
       "  </tbody>\n",
       "</table>\n",
       "</div>"
      ],
      "text/plain": [
       "                                              SMILES  pIC50  smile_length\n",
       "0        O=C(O)c1ccc(N2CCC(Oc3ccccc3C(F)(F)F)CC2)nn1   5.00            43\n",
       "1  O=C(NCC1CC1)c1ccc(N2CCN(C(=O)c3ccccc3C(F)(F)F)...   5.06            53\n",
       "2  O=C(O)c1cncc(-c2ccc(N3CCC(Oc4ccccc4C(F)(F)F)CC...   5.07            54\n",
       "3  O=C(O)CCCCCc1nc(-c2cn(Cc3cc(Br)c(Br)c(Br)c3)nn...   5.08            51\n",
       "4     Cc1ccc(C(=O)Nc2ncc(Cc3cccc(C(F)(F)F)c3)s2)cc1C   5.09            46"
      ]
     },
     "execution_count": 46,
     "metadata": {},
     "output_type": "execute_result"
    }
   ],
   "source": [
    "D_s.head()"
   ]
  },
  {
   "cell_type": "code",
   "execution_count": 47,
   "id": "9cf289d9",
   "metadata": {},
   "outputs": [
    {
     "data": {
      "text/html": [
       "<div>\n",
       "<style scoped>\n",
       "    .dataframe tbody tr th:only-of-type {\n",
       "        vertical-align: middle;\n",
       "    }\n",
       "\n",
       "    .dataframe tbody tr th {\n",
       "        vertical-align: top;\n",
       "    }\n",
       "\n",
       "    .dataframe thead th {\n",
       "        text-align: right;\n",
       "    }\n",
       "</style>\n",
       "<table border=\"1\" class=\"dataframe\">\n",
       "  <thead>\n",
       "    <tr style=\"text-align: right;\">\n",
       "      <th></th>\n",
       "      <th>SMILES</th>\n",
       "      <th>pIC50</th>\n",
       "      <th>smile_length</th>\n",
       "      <th>activity</th>\n",
       "    </tr>\n",
       "  </thead>\n",
       "  <tbody>\n",
       "    <tr>\n",
       "      <th>0</th>\n",
       "      <td>O=C(O)c1ccc(N2CCC(Oc3ccccc3C(F)(F)F)CC2)nn1</td>\n",
       "      <td>5.00</td>\n",
       "      <td>43</td>\n",
       "      <td>0</td>\n",
       "    </tr>\n",
       "    <tr>\n",
       "      <th>1</th>\n",
       "      <td>O=C(NCC1CC1)c1ccc(N2CCN(C(=O)c3ccccc3C(F)(F)F)...</td>\n",
       "      <td>5.06</td>\n",
       "      <td>53</td>\n",
       "      <td>0</td>\n",
       "    </tr>\n",
       "    <tr>\n",
       "      <th>2</th>\n",
       "      <td>O=C(O)c1cncc(-c2ccc(N3CCC(Oc4ccccc4C(F)(F)F)CC...</td>\n",
       "      <td>5.07</td>\n",
       "      <td>54</td>\n",
       "      <td>0</td>\n",
       "    </tr>\n",
       "    <tr>\n",
       "      <th>3</th>\n",
       "      <td>O=C(O)CCCCCc1nc(-c2cn(Cc3cc(Br)c(Br)c(Br)c3)nn...</td>\n",
       "      <td>5.08</td>\n",
       "      <td>51</td>\n",
       "      <td>0</td>\n",
       "    </tr>\n",
       "    <tr>\n",
       "      <th>4</th>\n",
       "      <td>Cc1ccc(C(=O)Nc2ncc(Cc3cccc(C(F)(F)F)c3)s2)cc1C</td>\n",
       "      <td>5.09</td>\n",
       "      <td>46</td>\n",
       "      <td>0</td>\n",
       "    </tr>\n",
       "  </tbody>\n",
       "</table>\n",
       "</div>"
      ],
      "text/plain": [
       "                                              SMILES  pIC50  smile_length   \n",
       "0        O=C(O)c1ccc(N2CCC(Oc3ccccc3C(F)(F)F)CC2)nn1   5.00            43  \\\n",
       "1  O=C(NCC1CC1)c1ccc(N2CCN(C(=O)c3ccccc3C(F)(F)F)...   5.06            53   \n",
       "2  O=C(O)c1cncc(-c2ccc(N3CCC(Oc4ccccc4C(F)(F)F)CC...   5.07            54   \n",
       "3  O=C(O)CCCCCc1nc(-c2cn(Cc3cc(Br)c(Br)c(Br)c3)nn...   5.08            51   \n",
       "4     Cc1ccc(C(=O)Nc2ncc(Cc3cccc(C(F)(F)F)c3)s2)cc1C   5.09            46   \n",
       "\n",
       "   activity  \n",
       "0         0  \n",
       "1         0  \n",
       "2         0  \n",
       "3         0  \n",
       "4         0  "
      ]
     },
     "execution_count": 47,
     "metadata": {},
     "output_type": "execute_result"
    }
   ],
   "source": [
    "D_s['activity'] = D_s['pIC50'].apply(get_label)\n",
    "D_s.head()"
   ]
  },
  {
   "cell_type": "code",
   "execution_count": 48,
   "id": "dd6ef485",
   "metadata": {},
   "outputs": [
    {
     "data": {
      "text/html": [
       "<div>\n",
       "<style scoped>\n",
       "    .dataframe tbody tr th:only-of-type {\n",
       "        vertical-align: middle;\n",
       "    }\n",
       "\n",
       "    .dataframe tbody tr th {\n",
       "        vertical-align: top;\n",
       "    }\n",
       "\n",
       "    .dataframe thead th {\n",
       "        text-align: right;\n",
       "    }\n",
       "</style>\n",
       "<table border=\"1\" class=\"dataframe\">\n",
       "  <thead>\n",
       "    <tr style=\"text-align: right;\">\n",
       "      <th></th>\n",
       "      <th>SMILES</th>\n",
       "      <th>pIC50</th>\n",
       "      <th>smile_length</th>\n",
       "    </tr>\n",
       "    <tr>\n",
       "      <th>activity</th>\n",
       "      <th></th>\n",
       "      <th></th>\n",
       "      <th></th>\n",
       "    </tr>\n",
       "  </thead>\n",
       "  <tbody>\n",
       "    <tr>\n",
       "      <th>0</th>\n",
       "      <td>275</td>\n",
       "      <td>275</td>\n",
       "      <td>275</td>\n",
       "    </tr>\n",
       "    <tr>\n",
       "      <th>1</th>\n",
       "      <td>367</td>\n",
       "      <td>367</td>\n",
       "      <td>367</td>\n",
       "    </tr>\n",
       "  </tbody>\n",
       "</table>\n",
       "</div>"
      ],
      "text/plain": [
       "          SMILES  pIC50  smile_length\n",
       "activity                             \n",
       "0            275    275           275\n",
       "1            367    367           367"
      ]
     },
     "execution_count": 48,
     "metadata": {},
     "output_type": "execute_result"
    }
   ],
   "source": [
    "D_s.groupby('activity').count()"
   ]
  },
  {
   "cell_type": "code",
   "execution_count": 49,
   "id": "d0f82dfa",
   "metadata": {},
   "outputs": [
    {
     "data": {
      "text/html": [
       "<div>\n",
       "<style scoped>\n",
       "    .dataframe tbody tr th:only-of-type {\n",
       "        vertical-align: middle;\n",
       "    }\n",
       "\n",
       "    .dataframe tbody tr th {\n",
       "        vertical-align: top;\n",
       "    }\n",
       "\n",
       "    .dataframe thead th {\n",
       "        text-align: right;\n",
       "    }\n",
       "</style>\n",
       "<table border=\"1\" class=\"dataframe\">\n",
       "  <thead>\n",
       "    <tr style=\"text-align: right;\">\n",
       "      <th></th>\n",
       "      <th>SMILES</th>\n",
       "      <th>pIC50</th>\n",
       "      <th>smile_length</th>\n",
       "      <th>activity</th>\n",
       "      <th>molecular_weight</th>\n",
       "    </tr>\n",
       "  </thead>\n",
       "  <tbody>\n",
       "    <tr>\n",
       "      <th>0</th>\n",
       "      <td>O=C(O)c1ccc(N2CCC(Oc3ccccc3C(F)(F)F)CC2)nn1</td>\n",
       "      <td>5.00</td>\n",
       "      <td>43</td>\n",
       "      <td>0</td>\n",
       "      <td>367.327</td>\n",
       "    </tr>\n",
       "    <tr>\n",
       "      <th>1</th>\n",
       "      <td>O=C(NCC1CC1)c1ccc(N2CCN(C(=O)c3ccccc3C(F)(F)F)...</td>\n",
       "      <td>5.06</td>\n",
       "      <td>53</td>\n",
       "      <td>0</td>\n",
       "      <td>433.434</td>\n",
       "    </tr>\n",
       "    <tr>\n",
       "      <th>2</th>\n",
       "      <td>O=C(O)c1cncc(-c2ccc(N3CCC(Oc4ccccc4C(F)(F)F)CC...</td>\n",
       "      <td>5.07</td>\n",
       "      <td>54</td>\n",
       "      <td>0</td>\n",
       "      <td>442.437</td>\n",
       "    </tr>\n",
       "    <tr>\n",
       "      <th>3</th>\n",
       "      <td>O=C(O)CCCCCc1nc(-c2cn(Cc3cc(Br)c(Br)c(Br)c3)nn...</td>\n",
       "      <td>5.08</td>\n",
       "      <td>51</td>\n",
       "      <td>0</td>\n",
       "      <td>578.059</td>\n",
       "    </tr>\n",
       "    <tr>\n",
       "      <th>4</th>\n",
       "      <td>Cc1ccc(C(=O)Nc2ncc(Cc3cccc(C(F)(F)F)c3)s2)cc1C</td>\n",
       "      <td>5.09</td>\n",
       "      <td>46</td>\n",
       "      <td>0</td>\n",
       "      <td>390.430</td>\n",
       "    </tr>\n",
       "  </tbody>\n",
       "</table>\n",
       "</div>"
      ],
      "text/plain": [
       "                                              SMILES  pIC50  smile_length   \n",
       "0        O=C(O)c1ccc(N2CCC(Oc3ccccc3C(F)(F)F)CC2)nn1   5.00            43  \\\n",
       "1  O=C(NCC1CC1)c1ccc(N2CCN(C(=O)c3ccccc3C(F)(F)F)...   5.06            53   \n",
       "2  O=C(O)c1cncc(-c2ccc(N3CCC(Oc4ccccc4C(F)(F)F)CC...   5.07            54   \n",
       "3  O=C(O)CCCCCc1nc(-c2cn(Cc3cc(Br)c(Br)c(Br)c3)nn...   5.08            51   \n",
       "4     Cc1ccc(C(=O)Nc2ncc(Cc3cccc(C(F)(F)F)c3)s2)cc1C   5.09            46   \n",
       "\n",
       "   activity  molecular_weight  \n",
       "0         0           367.327  \n",
       "1         0           433.434  \n",
       "2         0           442.437  \n",
       "3         0           578.059  \n",
       "4         0           390.430  "
      ]
     },
     "execution_count": 49,
     "metadata": {},
     "output_type": "execute_result"
    }
   ],
   "source": [
    "D_s['molecular_weight'] = D_s['SMILES'].apply(get_molecular_weight)\n",
    "D_s.head()"
   ]
  },
  {
   "cell_type": "code",
   "execution_count": 50,
   "id": "de5c6c73",
   "metadata": {},
   "outputs": [
    {
     "data": {
      "text/html": [
       "<div>\n",
       "<style scoped>\n",
       "    .dataframe tbody tr th:only-of-type {\n",
       "        vertical-align: middle;\n",
       "    }\n",
       "\n",
       "    .dataframe tbody tr th {\n",
       "        vertical-align: top;\n",
       "    }\n",
       "\n",
       "    .dataframe thead th {\n",
       "        text-align: right;\n",
       "    }\n",
       "</style>\n",
       "<table border=\"1\" class=\"dataframe\">\n",
       "  <thead>\n",
       "    <tr style=\"text-align: right;\">\n",
       "      <th></th>\n",
       "      <th>pIC50</th>\n",
       "      <th>smile_length</th>\n",
       "      <th>activity</th>\n",
       "      <th>molecular_weight</th>\n",
       "    </tr>\n",
       "  </thead>\n",
       "  <tbody>\n",
       "    <tr>\n",
       "      <th>count</th>\n",
       "      <td>642.000000</td>\n",
       "      <td>642.000000</td>\n",
       "      <td>642.000000</td>\n",
       "      <td>642.000000</td>\n",
       "    </tr>\n",
       "    <tr>\n",
       "      <th>mean</th>\n",
       "      <td>7.074735</td>\n",
       "      <td>49.609034</td>\n",
       "      <td>0.571651</td>\n",
       "      <td>420.799484</td>\n",
       "    </tr>\n",
       "    <tr>\n",
       "      <th>std</th>\n",
       "      <td>1.092826</td>\n",
       "      <td>7.018681</td>\n",
       "      <td>0.495225</td>\n",
       "      <td>55.435794</td>\n",
       "    </tr>\n",
       "    <tr>\n",
       "      <th>min</th>\n",
       "      <td>4.170000</td>\n",
       "      <td>21.000000</td>\n",
       "      <td>0.000000</td>\n",
       "      <td>277.061000</td>\n",
       "    </tr>\n",
       "    <tr>\n",
       "      <th>25%</th>\n",
       "      <td>6.345000</td>\n",
       "      <td>45.000000</td>\n",
       "      <td>0.000000</td>\n",
       "      <td>379.342000</td>\n",
       "    </tr>\n",
       "    <tr>\n",
       "      <th>50%</th>\n",
       "      <td>7.210000</td>\n",
       "      <td>49.000000</td>\n",
       "      <td>1.000000</td>\n",
       "      <td>421.494500</td>\n",
       "    </tr>\n",
       "    <tr>\n",
       "      <th>75%</th>\n",
       "      <td>7.820000</td>\n",
       "      <td>54.000000</td>\n",
       "      <td>1.000000</td>\n",
       "      <td>460.843000</td>\n",
       "    </tr>\n",
       "    <tr>\n",
       "      <th>max</th>\n",
       "      <td>10.520000</td>\n",
       "      <td>65.000000</td>\n",
       "      <td>1.000000</td>\n",
       "      <td>600.029000</td>\n",
       "    </tr>\n",
       "  </tbody>\n",
       "</table>\n",
       "</div>"
      ],
      "text/plain": [
       "            pIC50  smile_length    activity  molecular_weight\n",
       "count  642.000000    642.000000  642.000000        642.000000\n",
       "mean     7.074735     49.609034    0.571651        420.799484\n",
       "std      1.092826      7.018681    0.495225         55.435794\n",
       "min      4.170000     21.000000    0.000000        277.061000\n",
       "25%      6.345000     45.000000    0.000000        379.342000\n",
       "50%      7.210000     49.000000    1.000000        421.494500\n",
       "75%      7.820000     54.000000    1.000000        460.843000\n",
       "max     10.520000     65.000000    1.000000        600.029000"
      ]
     },
     "execution_count": 50,
     "metadata": {},
     "output_type": "execute_result"
    }
   ],
   "source": [
    "# get info on attributes\n",
    "D_s.describe()"
   ]
  },
  {
   "cell_type": "code",
   "execution_count": 51,
   "id": "359e9e0e",
   "metadata": {},
   "outputs": [
    {
     "data": {
      "image/png": "[encoded data removed]",
      "text/plain": [
       "<Figure size 576x432 with 1 Axes>"
      ]
     },
     "metadata": {
      "needs_background": "light"
     },
     "output_type": "display_data"
    }
   ],
   "source": [
    "plt.figure(figsize = (8, 6))\n",
    "plt.title(f'Class label distribution for labeled data')\n",
    "plt.ylabel('No. of datapoints')\n",
    "plt.xlabel('activity')\n",
    "sns.countplot(x = D_s['activity'])\n",
    "plt.grid()"
   ]
  },
  {
   "cell_type": "code",
   "execution_count": 52,
   "id": "aeee5354",
   "metadata": {},
   "outputs": [
    {
     "name": "stdout",
     "output_type": "stream",
     "text": [
      "600.0289999999999\n",
      "277.06100000000004\n",
      "65.0\n",
      "21.0\n"
     ]
    }
   ],
   "source": [
    "# get min and max molecular weight for filtering values\n",
    "print(D_s.describe()['molecular_weight']['max'])\n",
    "print(D_s.describe()['molecular_weight']['min'])\n",
    "print(D_s.describe()['smile_length']['max'])\n",
    "print(D_s.describe()['smile_length']['min'])"
   ]
  },
  {
   "cell_type": "code",
   "execution_count": 53,
   "id": "5c0071a3",
   "metadata": {},
   "outputs": [],
   "source": [
    "# drop all columns except 'activity' and 'SMILES'\n",
    "D_s.drop(['pIC50', 'smile_length', 'molecular_weight'], inplace = True, axis = 1)\n",
    "\n",
    "# save file\n",
    "D_s.to_csv('D_s_SCD1.csv', index = False)"
   ]
  },
  {
   "cell_type": "markdown",
   "id": "d83c034c",
   "metadata": {},
   "source": [
    "### Load Unlabeled Data\n",
    "The data below was filtered based on minimum and maximum molecular weight of the labeled data as well as minimum and maximum length of the SMILES string. "
   ]
  },
  {
   "cell_type": "code",
   "execution_count": 30,
   "id": "30289cb7",
   "metadata": {},
   "outputs": [
    {
     "name": "stdout",
     "output_type": "stream",
     "text": [
      "<class 'pandas.core.frame.DataFrame'>\n",
      "RangeIndex: 851866 entries, 0 to 851865\n",
      "Data columns (total 1 columns):\n",
      " #   Column  Non-Null Count   Dtype \n",
      "---  ------  --------------   ----- \n",
      " 0   SMILES  851866 non-null  object\n",
      "dtypes: object(1)\n",
      "memory usage: 6.5+ MB\n"
     ]
    }
   ],
   "source": [
    "D_u = pd.read_csv('chembl_uniq_final.txt')\n",
    "D_u.info()"
   ]
  },
  {
   "cell_type": "markdown",
   "id": "bd5b68cb",
   "metadata": {},
   "source": [
    "Ever after filtering the dataset still has about ~ 1000000 molecules. To select the number of unlabeled data, any molecule containing a unique token not in the original labeled dataset will be removd"
   ]
  },
  {
   "cell_type": "code",
   "execution_count": 26,
   "id": "b3e36a16",
   "metadata": {},
   "outputs": [],
   "source": [
    "smiles_list = D_s['SMILES'].tolist()\n",
    "\n",
    "# concatenate all items to get a single string\n",
    "single_str = ''.join(smiles_list)"
   ]
  },
  {
   "cell_type": "code",
   "execution_count": 27,
   "id": "31014430",
   "metadata": {},
   "outputs": [
    {
     "data": {
      "text/plain": [
       "31849"
      ]
     },
     "execution_count": 27,
     "metadata": {},
     "output_type": "execute_result"
    }
   ],
   "source": [
    "# create a list of char\n",
    "char_list = [c for c in single_str]\n",
    "len(char_list)"
   ]
  },
  {
   "cell_type": "code",
   "execution_count": 28,
   "id": "312066cc",
   "metadata": {},
   "outputs": [
    {
     "data": {
      "text/plain": [
       "29"
      ]
     },
     "execution_count": 28,
     "metadata": {},
     "output_type": "execute_result"
    }
   ],
   "source": [
    "# get unique chars\n",
    "tokens = list(set(char_list))\n",
    "len(tokens)"
   ]
  },
  {
   "cell_type": "code",
   "execution_count": 23,
   "id": "032841f8",
   "metadata": {},
   "outputs": [],
   "source": [
    "# returns 0 if smile satisfies all token conditions\n",
    "# returns 1 if smile has a token not contained in the token list\n",
    "def get_drop_label(smi):\n",
    "    \n",
    "    for c in smi:\n",
    "        if c not in tokens:\n",
    "            return int(1)\n",
    "        \n",
    "    # return 0 if all characters in the smile are present in tokens\n",
    "    return int(0)"
   ]
  },
  {
   "cell_type": "code",
   "execution_count": 32,
   "id": "8bc568f2",
   "metadata": {},
   "outputs": [],
   "source": [
    "D_u['drop_label'] = D_u['SMILES'].apply(get_drop_label)"
   ]
  },
  {
   "cell_type": "code",
   "execution_count": 34,
   "id": "2d2fa037",
   "metadata": {},
   "outputs": [
    {
     "data": {
      "text/html": [
       "<div>\n",
       "<style scoped>\n",
       "    .dataframe tbody tr th:only-of-type {\n",
       "        vertical-align: middle;\n",
       "    }\n",
       "\n",
       "    .dataframe tbody tr th {\n",
       "        vertical-align: top;\n",
       "    }\n",
       "\n",
       "    .dataframe thead th {\n",
       "        text-align: right;\n",
       "    }\n",
       "</style>\n",
       "<table border=\"1\" class=\"dataframe\">\n",
       "  <thead>\n",
       "    <tr style=\"text-align: right;\">\n",
       "      <th></th>\n",
       "      <th>SMILES</th>\n",
       "    </tr>\n",
       "    <tr>\n",
       "      <th>drop_label</th>\n",
       "      <th></th>\n",
       "    </tr>\n",
       "  </thead>\n",
       "  <tbody>\n",
       "    <tr>\n",
       "      <th>0</th>\n",
       "      <td>851726</td>\n",
       "    </tr>\n",
       "    <tr>\n",
       "      <th>1</th>\n",
       "      <td>140</td>\n",
       "    </tr>\n",
       "  </tbody>\n",
       "</table>\n",
       "</div>"
      ],
      "text/plain": [
       "            SMILES\n",
       "drop_label        \n",
       "0           851726\n",
       "1              140"
      ]
     },
     "execution_count": 34,
     "metadata": {},
     "output_type": "execute_result"
    }
   ],
   "source": [
    "D_u.groupby('drop_label').count()"
   ]
  },
  {
   "cell_type": "code",
   "execution_count": 35,
   "id": "c4283e07",
   "metadata": {},
   "outputs": [],
   "source": [
    "D_u.drop((D_u[D_u['drop_label'] == 1]).index, inplace = True)"
   ]
  },
  {
   "cell_type": "code",
   "execution_count": 36,
   "id": "9a0c42a4",
   "metadata": {},
   "outputs": [
    {
     "data": {
      "text/html": [
       "<div>\n",
       "<style scoped>\n",
       "    .dataframe tbody tr th:only-of-type {\n",
       "        vertical-align: middle;\n",
       "    }\n",
       "\n",
       "    .dataframe tbody tr th {\n",
       "        vertical-align: top;\n",
       "    }\n",
       "\n",
       "    .dataframe thead th {\n",
       "        text-align: right;\n",
       "    }\n",
       "</style>\n",
       "<table border=\"1\" class=\"dataframe\">\n",
       "  <thead>\n",
       "    <tr style=\"text-align: right;\">\n",
       "      <th></th>\n",
       "      <th>SMILES</th>\n",
       "    </tr>\n",
       "    <tr>\n",
       "      <th>drop_label</th>\n",
       "      <th></th>\n",
       "    </tr>\n",
       "  </thead>\n",
       "  <tbody>\n",
       "    <tr>\n",
       "      <th>0</th>\n",
       "      <td>851726</td>\n",
       "    </tr>\n",
       "  </tbody>\n",
       "</table>\n",
       "</div>"
      ],
      "text/plain": [
       "            SMILES\n",
       "drop_label        \n",
       "0           851726"
      ]
     },
     "execution_count": 36,
     "metadata": {},
     "output_type": "execute_result"
    }
   ],
   "source": [
    "D_u.groupby('drop_label').count()"
   ]
  },
  {
   "cell_type": "code",
   "execution_count": 55,
   "id": "1c2bc98b",
   "metadata": {},
   "outputs": [],
   "source": [
    "D_u.drop(['drop_label'], axis = 1, inplace = True)\n",
    "\n",
    "# save file\n",
    "D_u.to_csv('D_u_SCD1.csv', index = False)"
   ]
  },
  {
   "cell_type": "code",
   "execution_count": null,
   "id": "d4552f75",
   "metadata": {},
   "outputs": [],
   "source": []
  }
 ],
 "metadata": {
  "kernelspec": {
   "display_name": "rdkit",
   "language": "python",
   "name": "rdkit"
  },
  "language_info": {
   "codemirror_mode": {
    "name": "ipython",
    "version": 3
   },
   "file_extension": ".py",
   "mimetype": "text/x-python",
   "name": "python",
   "nbconvert_exporter": "python",
   "pygments_lexer": "ipython3",
   "version": "3.11.3"
  }
 },
 "nbformat": 4,
 "nbformat_minor": 5
}

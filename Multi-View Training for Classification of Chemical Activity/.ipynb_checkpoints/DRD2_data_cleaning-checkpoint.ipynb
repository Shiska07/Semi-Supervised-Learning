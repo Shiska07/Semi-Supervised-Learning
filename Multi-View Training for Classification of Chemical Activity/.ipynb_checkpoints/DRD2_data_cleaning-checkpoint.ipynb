{
 "cells": [
  {
   "cell_type": "code",
   "execution_count": 42,
   "metadata": {},
   "outputs": [],
   "source": [
    "#importing libraries\n",
    "\n",
    "import numpy as np\n",
    "import pandas as pd\n",
    "import matplotlib.pyplot as plt\n",
    "import seaborn as sns\n",
    "%matplotlib inline"
   ]
  },
  {
   "cell_type": "code",
   "execution_count": 43,
   "metadata": {},
   "outputs": [
    {
     "ename": "FileNotFoundError",
     "evalue": "[Errno 2] No such file or directory: 'SCD1_pIC50_4.csv'",
     "output_type": "error",
     "traceback": [
      "\u001b[1;31m---------------------------------------------------------------------------\u001b[0m",
      "\u001b[1;31mFileNotFoundError\u001b[0m                         Traceback (most recent call last)",
      "\u001b[1;32m<ipython-input-43-1edae21d7bdf>\u001b[0m in \u001b[0;36m<module>\u001b[1;34m\u001b[0m\n\u001b[1;32m----> 1\u001b[1;33m \u001b[0mdata\u001b[0m \u001b[1;33m=\u001b[0m \u001b[0mpd\u001b[0m\u001b[1;33m.\u001b[0m\u001b[0mread_csv\u001b[0m\u001b[1;33m(\u001b[0m\u001b[1;34m'SCD1_pIC50_4.csv'\u001b[0m\u001b[1;33m)\u001b[0m\u001b[1;33m\u001b[0m\u001b[1;33m\u001b[0m\u001b[0m\n\u001b[0m",
      "\u001b[1;32m~\\anaconda3\\envs\\py37version\\lib\\site-packages\\pandas\\io\\parsers.py\u001b[0m in \u001b[0;36mread_csv\u001b[1;34m(filepath_or_buffer, sep, delimiter, header, names, index_col, usecols, squeeze, prefix, mangle_dupe_cols, dtype, engine, converters, true_values, false_values, skipinitialspace, skiprows, skipfooter, nrows, na_values, keep_default_na, na_filter, verbose, skip_blank_lines, parse_dates, infer_datetime_format, keep_date_col, date_parser, dayfirst, cache_dates, iterator, chunksize, compression, thousands, decimal, lineterminator, quotechar, quoting, doublequote, escapechar, comment, encoding, dialect, error_bad_lines, warn_bad_lines, delim_whitespace, low_memory, memory_map, float_precision)\u001b[0m\n\u001b[0;32m    684\u001b[0m     )\n\u001b[0;32m    685\u001b[0m \u001b[1;33m\u001b[0m\u001b[0m\n\u001b[1;32m--> 686\u001b[1;33m     \u001b[1;32mreturn\u001b[0m \u001b[0m_read\u001b[0m\u001b[1;33m(\u001b[0m\u001b[0mfilepath_or_buffer\u001b[0m\u001b[1;33m,\u001b[0m \u001b[0mkwds\u001b[0m\u001b[1;33m)\u001b[0m\u001b[1;33m\u001b[0m\u001b[1;33m\u001b[0m\u001b[0m\n\u001b[0m\u001b[0;32m    687\u001b[0m \u001b[1;33m\u001b[0m\u001b[0m\n\u001b[0;32m    688\u001b[0m \u001b[1;33m\u001b[0m\u001b[0m\n",
      "\u001b[1;32m~\\anaconda3\\envs\\py37version\\lib\\site-packages\\pandas\\io\\parsers.py\u001b[0m in \u001b[0;36m_read\u001b[1;34m(filepath_or_buffer, kwds)\u001b[0m\n\u001b[0;32m    450\u001b[0m \u001b[1;33m\u001b[0m\u001b[0m\n\u001b[0;32m    451\u001b[0m     \u001b[1;31m# Create the parser.\u001b[0m\u001b[1;33m\u001b[0m\u001b[1;33m\u001b[0m\u001b[1;33m\u001b[0m\u001b[0m\n\u001b[1;32m--> 452\u001b[1;33m     \u001b[0mparser\u001b[0m \u001b[1;33m=\u001b[0m \u001b[0mTextFileReader\u001b[0m\u001b[1;33m(\u001b[0m\u001b[0mfp_or_buf\u001b[0m\u001b[1;33m,\u001b[0m \u001b[1;33m**\u001b[0m\u001b[0mkwds\u001b[0m\u001b[1;33m)\u001b[0m\u001b[1;33m\u001b[0m\u001b[1;33m\u001b[0m\u001b[0m\n\u001b[0m\u001b[0;32m    453\u001b[0m \u001b[1;33m\u001b[0m\u001b[0m\n\u001b[0;32m    454\u001b[0m     \u001b[1;32mif\u001b[0m \u001b[0mchunksize\u001b[0m \u001b[1;32mor\u001b[0m \u001b[0miterator\u001b[0m\u001b[1;33m:\u001b[0m\u001b[1;33m\u001b[0m\u001b[1;33m\u001b[0m\u001b[0m\n",
      "\u001b[1;32m~\\anaconda3\\envs\\py37version\\lib\\site-packages\\pandas\\io\\parsers.py\u001b[0m in \u001b[0;36m__init__\u001b[1;34m(self, f, engine, **kwds)\u001b[0m\n\u001b[0;32m    944\u001b[0m             \u001b[0mself\u001b[0m\u001b[1;33m.\u001b[0m\u001b[0moptions\u001b[0m\u001b[1;33m[\u001b[0m\u001b[1;34m\"has_index_names\"\u001b[0m\u001b[1;33m]\u001b[0m \u001b[1;33m=\u001b[0m \u001b[0mkwds\u001b[0m\u001b[1;33m[\u001b[0m\u001b[1;34m\"has_index_names\"\u001b[0m\u001b[1;33m]\u001b[0m\u001b[1;33m\u001b[0m\u001b[1;33m\u001b[0m\u001b[0m\n\u001b[0;32m    945\u001b[0m \u001b[1;33m\u001b[0m\u001b[0m\n\u001b[1;32m--> 946\u001b[1;33m         \u001b[0mself\u001b[0m\u001b[1;33m.\u001b[0m\u001b[0m_make_engine\u001b[0m\u001b[1;33m(\u001b[0m\u001b[0mself\u001b[0m\u001b[1;33m.\u001b[0m\u001b[0mengine\u001b[0m\u001b[1;33m)\u001b[0m\u001b[1;33m\u001b[0m\u001b[1;33m\u001b[0m\u001b[0m\n\u001b[0m\u001b[0;32m    947\u001b[0m \u001b[1;33m\u001b[0m\u001b[0m\n\u001b[0;32m    948\u001b[0m     \u001b[1;32mdef\u001b[0m \u001b[0mclose\u001b[0m\u001b[1;33m(\u001b[0m\u001b[0mself\u001b[0m\u001b[1;33m)\u001b[0m\u001b[1;33m:\u001b[0m\u001b[1;33m\u001b[0m\u001b[1;33m\u001b[0m\u001b[0m\n",
      "\u001b[1;32m~\\anaconda3\\envs\\py37version\\lib\\site-packages\\pandas\\io\\parsers.py\u001b[0m in \u001b[0;36m_make_engine\u001b[1;34m(self, engine)\u001b[0m\n\u001b[0;32m   1176\u001b[0m     \u001b[1;32mdef\u001b[0m \u001b[0m_make_engine\u001b[0m\u001b[1;33m(\u001b[0m\u001b[0mself\u001b[0m\u001b[1;33m,\u001b[0m \u001b[0mengine\u001b[0m\u001b[1;33m=\u001b[0m\u001b[1;34m\"c\"\u001b[0m\u001b[1;33m)\u001b[0m\u001b[1;33m:\u001b[0m\u001b[1;33m\u001b[0m\u001b[1;33m\u001b[0m\u001b[0m\n\u001b[0;32m   1177\u001b[0m         \u001b[1;32mif\u001b[0m \u001b[0mengine\u001b[0m \u001b[1;33m==\u001b[0m \u001b[1;34m\"c\"\u001b[0m\u001b[1;33m:\u001b[0m\u001b[1;33m\u001b[0m\u001b[1;33m\u001b[0m\u001b[0m\n\u001b[1;32m-> 1178\u001b[1;33m             \u001b[0mself\u001b[0m\u001b[1;33m.\u001b[0m\u001b[0m_engine\u001b[0m \u001b[1;33m=\u001b[0m \u001b[0mCParserWrapper\u001b[0m\u001b[1;33m(\u001b[0m\u001b[0mself\u001b[0m\u001b[1;33m.\u001b[0m\u001b[0mf\u001b[0m\u001b[1;33m,\u001b[0m \u001b[1;33m**\u001b[0m\u001b[0mself\u001b[0m\u001b[1;33m.\u001b[0m\u001b[0moptions\u001b[0m\u001b[1;33m)\u001b[0m\u001b[1;33m\u001b[0m\u001b[1;33m\u001b[0m\u001b[0m\n\u001b[0m\u001b[0;32m   1179\u001b[0m         \u001b[1;32melse\u001b[0m\u001b[1;33m:\u001b[0m\u001b[1;33m\u001b[0m\u001b[1;33m\u001b[0m\u001b[0m\n\u001b[0;32m   1180\u001b[0m             \u001b[1;32mif\u001b[0m \u001b[0mengine\u001b[0m \u001b[1;33m==\u001b[0m \u001b[1;34m\"python\"\u001b[0m\u001b[1;33m:\u001b[0m\u001b[1;33m\u001b[0m\u001b[1;33m\u001b[0m\u001b[0m\n",
      "\u001b[1;32m~\\anaconda3\\envs\\py37version\\lib\\site-packages\\pandas\\io\\parsers.py\u001b[0m in \u001b[0;36m__init__\u001b[1;34m(self, src, **kwds)\u001b[0m\n\u001b[0;32m   2006\u001b[0m         \u001b[0mkwds\u001b[0m\u001b[1;33m[\u001b[0m\u001b[1;34m\"usecols\"\u001b[0m\u001b[1;33m]\u001b[0m \u001b[1;33m=\u001b[0m \u001b[0mself\u001b[0m\u001b[1;33m.\u001b[0m\u001b[0musecols\u001b[0m\u001b[1;33m\u001b[0m\u001b[1;33m\u001b[0m\u001b[0m\n\u001b[0;32m   2007\u001b[0m \u001b[1;33m\u001b[0m\u001b[0m\n\u001b[1;32m-> 2008\u001b[1;33m         \u001b[0mself\u001b[0m\u001b[1;33m.\u001b[0m\u001b[0m_reader\u001b[0m \u001b[1;33m=\u001b[0m \u001b[0mparsers\u001b[0m\u001b[1;33m.\u001b[0m\u001b[0mTextReader\u001b[0m\u001b[1;33m(\u001b[0m\u001b[0msrc\u001b[0m\u001b[1;33m,\u001b[0m \u001b[1;33m**\u001b[0m\u001b[0mkwds\u001b[0m\u001b[1;33m)\u001b[0m\u001b[1;33m\u001b[0m\u001b[1;33m\u001b[0m\u001b[0m\n\u001b[0m\u001b[0;32m   2009\u001b[0m         \u001b[0mself\u001b[0m\u001b[1;33m.\u001b[0m\u001b[0munnamed_cols\u001b[0m \u001b[1;33m=\u001b[0m \u001b[0mself\u001b[0m\u001b[1;33m.\u001b[0m\u001b[0m_reader\u001b[0m\u001b[1;33m.\u001b[0m\u001b[0munnamed_cols\u001b[0m\u001b[1;33m\u001b[0m\u001b[1;33m\u001b[0m\u001b[0m\n\u001b[0;32m   2010\u001b[0m \u001b[1;33m\u001b[0m\u001b[0m\n",
      "\u001b[1;32mpandas\\_libs\\parsers.pyx\u001b[0m in \u001b[0;36mpandas._libs.parsers.TextReader.__cinit__\u001b[1;34m()\u001b[0m\n",
      "\u001b[1;32mpandas\\_libs\\parsers.pyx\u001b[0m in \u001b[0;36mpandas._libs.parsers.TextReader._setup_parser_source\u001b[1;34m()\u001b[0m\n",
      "\u001b[1;31mFileNotFoundError\u001b[0m: [Errno 2] No such file or directory: 'SCD1_pIC50_4.csv'"
     ]
    }
   ],
   "source": [
    "data = pd.read_csv('SCD1_pIC50_4.csv')"
   ]
  },
  {
   "cell_type": "code",
   "execution_count": 38,
   "metadata": {},
   "outputs": [
    {
     "data": {
      "text/html": [
       "<div>\n",
       "<style scoped>\n",
       "    .dataframe tbody tr th:only-of-type {\n",
       "        vertical-align: middle;\n",
       "    }\n",
       "\n",
       "    .dataframe tbody tr th {\n",
       "        vertical-align: top;\n",
       "    }\n",
       "\n",
       "    .dataframe thead th {\n",
       "        text-align: right;\n",
       "    }\n",
       "</style>\n",
       "<table border=\"1\" class=\"dataframe\">\n",
       "  <thead>\n",
       "    <tr style=\"text-align: right;\">\n",
       "      <th></th>\n",
       "      <th>O=C(c1cccnc1)N1CCC2(CCN(C(=O)c3ccco3)CC2)C1</th>\n",
       "      <th>CHEMBL001</th>\n",
       "    </tr>\n",
       "  </thead>\n",
       "  <tbody>\n",
       "    <tr>\n",
       "      <th>0</th>\n",
       "      <td>O=C(Nc1ccccc1)Nc1ccc(-c2nn(CC3CCCO3)cc2-c2ccnc...</td>\n",
       "      <td>CHEMBL001</td>\n",
       "    </tr>\n",
       "    <tr>\n",
       "      <th>1</th>\n",
       "      <td>CCCOc1ccc(C2CC(=O)Nc3cc(OC)c(OC)cc32)cc1</td>\n",
       "      <td>CHEMBL001</td>\n",
       "    </tr>\n",
       "    <tr>\n",
       "      <th>2</th>\n",
       "      <td>COc1ccc2cc(-c3[nH][nH]c(=N)c3C(N)=O)ccc2c1</td>\n",
       "      <td>CHEMBL001</td>\n",
       "    </tr>\n",
       "    <tr>\n",
       "      <th>3</th>\n",
       "      <td>C=CCc1ccc(O)c(-c2ccc(OCCCCC)c(CC=C)c2)c1</td>\n",
       "      <td>CHEMBL001</td>\n",
       "    </tr>\n",
       "    <tr>\n",
       "      <th>4</th>\n",
       "      <td>N#Cc1ccc(NC(=O)CN2CCC(N3C(=O)OCc4cc(Cl)ccc43)C...</td>\n",
       "      <td>CHEMBL001</td>\n",
       "    </tr>\n",
       "    <tr>\n",
       "      <th>5</th>\n",
       "      <td>CN(C)CCCOc1ccnc2ccc(C#CCNC(=O)c3cccn(Cc4ccc(F)...</td>\n",
       "      <td>CHEMBL001</td>\n",
       "    </tr>\n",
       "    <tr>\n",
       "      <th>6</th>\n",
       "      <td>Cc1ccc(S(=O)(=O)N(CC(C)C)C(CCCCNC(=O)OCc2ccccc...</td>\n",
       "      <td>CHEMBL001</td>\n",
       "    </tr>\n",
       "    <tr>\n",
       "      <th>7</th>\n",
       "      <td>O=C(CCCCNC(=O)c1ccc(-c2ccc(O)c(C(=O)O)c2)s1)N=...</td>\n",
       "      <td>CHEMBL001</td>\n",
       "    </tr>\n",
       "    <tr>\n",
       "      <th>8</th>\n",
       "      <td>O=c1c2cc(Cl)ccc2sc2cccc(Cl)c12</td>\n",
       "      <td>CHEMBL001</td>\n",
       "    </tr>\n",
       "    <tr>\n",
       "      <th>9</th>\n",
       "      <td>CCOC(=O)c1cnc(N2CC(NC(=O)NS(=O)(=O)c3ccccc3)C2...</td>\n",
       "      <td>CHEMBL001</td>\n",
       "    </tr>\n",
       "    <tr>\n",
       "      <th>10</th>\n",
       "      <td>CN(C)C1C(=O)C(C(N)=O)C(=O)C2(O)C(=O)C3C(=O)c4c...</td>\n",
       "      <td>CHEMBL001</td>\n",
       "    </tr>\n",
       "    <tr>\n",
       "      <th>11</th>\n",
       "      <td>COc1ccc(S(=O)(=O)Nc2cccc(S(=O)(=O)N3CCCCCC3)c2...</td>\n",
       "      <td>CHEMBL001</td>\n",
       "    </tr>\n",
       "    <tr>\n",
       "      <th>12</th>\n",
       "      <td>O=C(c1cccc(Oc2ccccc2)c1)N1CCCC(O)(CO)CC1</td>\n",
       "      <td>CHEMBL001</td>\n",
       "    </tr>\n",
       "    <tr>\n",
       "      <th>13</th>\n",
       "      <td>CCc1cc(N=c2[nH]cc(-c3ccccc3N(C)C(=O)CN3CCOCC3)...</td>\n",
       "      <td>CHEMBL001</td>\n",
       "    </tr>\n",
       "    <tr>\n",
       "      <th>14</th>\n",
       "      <td>CN(C)CC1CCc2cc(-n3cnc4cc(-c5ccc(Cl)cc5)sc4c3=O...</td>\n",
       "      <td>CHEMBL001</td>\n",
       "    </tr>\n",
       "    <tr>\n",
       "      <th>15</th>\n",
       "      <td>COc1ccc(S(=O)(=O)N2CCCCC2)cc1NC(O)c1cc(O)n(-c2...</td>\n",
       "      <td>CHEMBL001</td>\n",
       "    </tr>\n",
       "    <tr>\n",
       "      <th>16</th>\n",
       "      <td>CN(C)C1C(=O)C(C(N)=O)C(=O)C2(O)C(O)c3c(cc4c(F)...</td>\n",
       "      <td>CHEMBL001</td>\n",
       "    </tr>\n",
       "    <tr>\n",
       "      <th>17</th>\n",
       "      <td>CCn1cc(C(=O)Nc2ccc3c(c2)OCCO3)c2cc(OC)c(OC)cc2...</td>\n",
       "      <td>CHEMBL001</td>\n",
       "    </tr>\n",
       "    <tr>\n",
       "      <th>18</th>\n",
       "      <td>CCC(C)C(=O)OC1CCCC2CCC(C)C(CCC(O)CC(O)CC(=O)O)C21</td>\n",
       "      <td>CHEMBL001</td>\n",
       "    </tr>\n",
       "    <tr>\n",
       "      <th>19</th>\n",
       "      <td>Cc1c(C(=O)OC(C)C(C)(C)C)cn2c1C(=O)N(CCCNC(=O)c...</td>\n",
       "      <td>CHEMBL001</td>\n",
       "    </tr>\n",
       "  </tbody>\n",
       "</table>\n",
       "</div>"
      ],
      "text/plain": [
       "          O=C(c1cccnc1)N1CCC2(CCN(C(=O)c3ccco3)CC2)C1  CHEMBL001\n",
       "0   O=C(Nc1ccccc1)Nc1ccc(-c2nn(CC3CCCO3)cc2-c2ccnc...  CHEMBL001\n",
       "1            CCCOc1ccc(C2CC(=O)Nc3cc(OC)c(OC)cc32)cc1  CHEMBL001\n",
       "2          COc1ccc2cc(-c3[nH][nH]c(=N)c3C(N)=O)ccc2c1  CHEMBL001\n",
       "3            C=CCc1ccc(O)c(-c2ccc(OCCCCC)c(CC=C)c2)c1  CHEMBL001\n",
       "4   N#Cc1ccc(NC(=O)CN2CCC(N3C(=O)OCc4cc(Cl)ccc43)C...  CHEMBL001\n",
       "5   CN(C)CCCOc1ccnc2ccc(C#CCNC(=O)c3cccn(Cc4ccc(F)...  CHEMBL001\n",
       "6   Cc1ccc(S(=O)(=O)N(CC(C)C)C(CCCCNC(=O)OCc2ccccc...  CHEMBL001\n",
       "7   O=C(CCCCNC(=O)c1ccc(-c2ccc(O)c(C(=O)O)c2)s1)N=...  CHEMBL001\n",
       "8                      O=c1c2cc(Cl)ccc2sc2cccc(Cl)c12  CHEMBL001\n",
       "9   CCOC(=O)c1cnc(N2CC(NC(=O)NS(=O)(=O)c3ccccc3)C2...  CHEMBL001\n",
       "10  CN(C)C1C(=O)C(C(N)=O)C(=O)C2(O)C(=O)C3C(=O)c4c...  CHEMBL001\n",
       "11  COc1ccc(S(=O)(=O)Nc2cccc(S(=O)(=O)N3CCCCCC3)c2...  CHEMBL001\n",
       "12           O=C(c1cccc(Oc2ccccc2)c1)N1CCCC(O)(CO)CC1  CHEMBL001\n",
       "13  CCc1cc(N=c2[nH]cc(-c3ccccc3N(C)C(=O)CN3CCOCC3)...  CHEMBL001\n",
       "14  CN(C)CC1CCc2cc(-n3cnc4cc(-c5ccc(Cl)cc5)sc4c3=O...  CHEMBL001\n",
       "15  COc1ccc(S(=O)(=O)N2CCCCC2)cc1NC(O)c1cc(O)n(-c2...  CHEMBL001\n",
       "16  CN(C)C1C(=O)C(C(N)=O)C(=O)C2(O)C(O)c3c(cc4c(F)...  CHEMBL001\n",
       "17  CCn1cc(C(=O)Nc2ccc3c(c2)OCCO3)c2cc(OC)c(OC)cc2...  CHEMBL001\n",
       "18  CCC(C)C(=O)OC1CCCC2CCC(C)C(CCC(O)CC(O)CC(=O)O)C21  CHEMBL001\n",
       "19  Cc1c(C(=O)OC(C)C(C)(C)C)cn2c1C(=O)N(CCCNC(=O)c...  CHEMBL001"
      ]
     },
     "execution_count": 38,
     "metadata": {},
     "output_type": "execute_result"
    }
   ],
   "source": [
    "data.head(20)"
   ]
  },
  {
   "cell_type": "code",
   "execution_count": 4,
   "metadata": {},
   "outputs": [],
   "source": [
    "data = data.drop(labels = ['Unnamed: 0'],axis = 1)"
   ]
  },
  {
   "cell_type": "code",
   "execution_count": 39,
   "metadata": {},
   "outputs": [
    {
     "data": {
      "text/plain": [
       "O=C(c1cccnc1)N1CCC2(CCN(C(=O)c3ccco3)CC2)C1    0\n",
       "CHEMBL001                                      0\n",
       "dtype: int64"
      ]
     },
     "execution_count": 39,
     "metadata": {},
     "output_type": "execute_result"
    }
   ],
   "source": [
    "data.isnull().sum()"
   ]
  },
  {
   "cell_type": "code",
   "execution_count": 40,
   "metadata": {},
   "outputs": [],
   "source": [
    "data = data.dropna(axis = 'rows')"
   ]
  },
  {
   "cell_type": "code",
   "execution_count": 41,
   "metadata": {},
   "outputs": [
    {
     "data": {
      "text/plain": [
       "<AxesSubplot:>"
      ]
     },
     "execution_count": 41,
     "metadata": {},
     "output_type": "execute_result"
    },
    {
     "data": {
      "image/png": "[encoded data removed]",
      "text/plain": [
       "<Figure size 432x288 with 1 Axes>"
      ]
     },
     "metadata": {
      "needs_background": "light"
     },
     "output_type": "display_data"
    }
   ],
   "source": [
    "sns.heatmap(data.isnull(),cbar=False)"
   ]
  },
  {
   "cell_type": "code",
   "execution_count": 8,
   "metadata": {},
   "outputs": [
    {
     "data": {
      "text/plain": [
       "SMILES    0\n",
       "Kow       0\n",
       "dtype: int64"
      ]
     },
     "execution_count": 8,
     "metadata": {},
     "output_type": "execute_result"
    }
   ],
   "source": [
    "data.isnull().sum()"
   ]
  },
  {
   "cell_type": "code",
   "execution_count": 9,
   "metadata": {},
   "outputs": [
    {
     "name": "stdout",
     "output_type": "stream",
     "text": [
      "623\n",
      "623\n"
     ]
    }
   ],
   "source": [
    "print(data['SMILES'].size)\n",
    "print(data['Kow'].size)"
   ]
  },
  {
   "cell_type": "code",
   "execution_count": 10,
   "metadata": {},
   "outputs": [],
   "source": [
    "smiles = data['SMILES']\n",
    "labels = data['Kow']"
   ]
  },
  {
   "cell_type": "code",
   "execution_count": 11,
   "metadata": {},
   "outputs": [],
   "source": [
    "# create a new series\n",
    "clean_smiles = []"
   ]
  },
  {
   "cell_type": "code",
   "execution_count": 12,
   "metadata": {},
   "outputs": [],
   "source": [
    "\n",
    "for smile in smiles:\n",
    "    clean_smile = smile.replace('@','')\n",
    "    clean_smiles.append(clean_smile)"
   ]
  },
  {
   "cell_type": "code",
   "execution_count": 13,
   "metadata": {},
   "outputs": [
    {
     "data": {
      "text/plain": [
       "623"
      ]
     },
     "execution_count": 13,
     "metadata": {},
     "output_type": "execute_result"
    }
   ],
   "source": [
    "len(clean_smiles)"
   ]
  },
  {
   "cell_type": "code",
   "execution_count": 14,
   "metadata": {},
   "outputs": [],
   "source": [
    "clean_smiles = pd.Series(clean_smiles)"
   ]
  },
  {
   "cell_type": "code",
   "execution_count": 15,
   "metadata": {},
   "outputs": [],
   "source": [
    "labels.reset_index(drop=True, inplace=True)"
   ]
  },
  {
   "cell_type": "code",
   "execution_count": 16,
   "metadata": {},
   "outputs": [
    {
     "data": {
      "text/plain": [
       "618    10.00\n",
       "619    10.17\n",
       "620    10.22\n",
       "621    10.30\n",
       "622    10.52\n",
       "Name: Kow, dtype: float64"
      ]
     },
     "execution_count": 16,
     "metadata": {},
     "output_type": "execute_result"
    }
   ],
   "source": [
    "labels.tail()"
   ]
  },
  {
   "cell_type": "code",
   "execution_count": 17,
   "metadata": {},
   "outputs": [],
   "source": [
    "clean_df = pd.concat([clean_smiles,labels], axis=1)"
   ]
  },
  {
   "cell_type": "code",
   "execution_count": 18,
   "metadata": {},
   "outputs": [
    {
     "data": {
      "text/plain": [
       "0      0\n",
       "Kow    0\n",
       "dtype: int64"
      ]
     },
     "execution_count": 18,
     "metadata": {},
     "output_type": "execute_result"
    }
   ],
   "source": [
    "clean_df.isnull().sum()"
   ]
  },
  {
   "cell_type": "code",
   "execution_count": 19,
   "metadata": {},
   "outputs": [
    {
     "data": {
      "text/html": [
       "<div>\n",
       "<style scoped>\n",
       "    .dataframe tbody tr th:only-of-type {\n",
       "        vertical-align: middle;\n",
       "    }\n",
       "\n",
       "    .dataframe tbody tr th {\n",
       "        vertical-align: top;\n",
       "    }\n",
       "\n",
       "    .dataframe thead th {\n",
       "        text-align: right;\n",
       "    }\n",
       "</style>\n",
       "<table border=\"1\" class=\"dataframe\">\n",
       "  <thead>\n",
       "    <tr style=\"text-align: right;\">\n",
       "      <th></th>\n",
       "      <th>0</th>\n",
       "      <th>Kow</th>\n",
       "    </tr>\n",
       "  </thead>\n",
       "  <tbody>\n",
       "    <tr>\n",
       "      <th>603</th>\n",
       "      <td>FC(F)(F)c1cccc2c1CCC1(CCN(c3ccc(-c4nc(Cc5cccnc...</td>\n",
       "      <td>9.00</td>\n",
       "    </tr>\n",
       "    <tr>\n",
       "      <th>604</th>\n",
       "      <td>Fc1ccc(Br)c(OC2CCN(c3ncnc4[nH]cnc34)CC2)c1</td>\n",
       "      <td>9.00</td>\n",
       "    </tr>\n",
       "    <tr>\n",
       "      <th>605</th>\n",
       "      <td>N#Cc1cnc(N2CCC3(CC2)CCN(Cc2cccc(C(F)(F)F)c2)c2...</td>\n",
       "      <td>9.00</td>\n",
       "    </tr>\n",
       "    <tr>\n",
       "      <th>606</th>\n",
       "      <td>NC(=O)c1ccc(N2CCC(Oc3cc(F)ccc3Cl)CC2)nn1</td>\n",
       "      <td>9.00</td>\n",
       "    </tr>\n",
       "    <tr>\n",
       "      <th>607</th>\n",
       "      <td>Nc1nc2cnc(N3CCC(Oc4cc(F)ccc4Br)CC3)nc2s1</td>\n",
       "      <td>9.00</td>\n",
       "    </tr>\n",
       "    <tr>\n",
       "      <th>608</th>\n",
       "      <td>O=C(NC[CH](O)c1cccnc1)c1ccc(N2CCC3(CCc4c(Cl)cc...</td>\n",
       "      <td>9.00</td>\n",
       "    </tr>\n",
       "    <tr>\n",
       "      <th>609</th>\n",
       "      <td>OCc1nc(-c2cnc(N3CCC(Oc4ccccc4C(F)(F)F)CC3)s2)no1</td>\n",
       "      <td>9.00</td>\n",
       "    </tr>\n",
       "    <tr>\n",
       "      <th>610</th>\n",
       "      <td>c1cncc(Cc2nnc(-c3ccc(N4CCC5(CCc6ccccc6O5)CC4)n...</td>\n",
       "      <td>9.00</td>\n",
       "    </tr>\n",
       "    <tr>\n",
       "      <th>611</th>\n",
       "      <td>O=C(NC[CH](O)c1ccccc1)c1ccc(N2CCC3(CC2)CC(=O)c...</td>\n",
       "      <td>9.16</td>\n",
       "    </tr>\n",
       "    <tr>\n",
       "      <th>612</th>\n",
       "      <td>COc1ccc(C(=O)Nc2ncc(Cc3ccc(F)c(C(F)(F)F)c3)s2)...</td>\n",
       "      <td>9.22</td>\n",
       "    </tr>\n",
       "    <tr>\n",
       "      <th>613</th>\n",
       "      <td>O=C(NC[CH](O)c1ccccc1)c1ccc(N2CCC3(CC2)Oc2cccc...</td>\n",
       "      <td>9.25</td>\n",
       "    </tr>\n",
       "    <tr>\n",
       "      <th>614</th>\n",
       "      <td>O=C(NC[CH](O)c1cccnc1)c1ccc(N2CCC3(CCc4c(cccc4...</td>\n",
       "      <td>9.35</td>\n",
       "    </tr>\n",
       "    <tr>\n",
       "      <th>615</th>\n",
       "      <td>CCNc1ccc(C(=O)Nc2ncc(Cc3cccc(C(F)(F)F)c3)s2)cc...</td>\n",
       "      <td>9.40</td>\n",
       "    </tr>\n",
       "    <tr>\n",
       "      <th>616</th>\n",
       "      <td>COc1ccc(C(=O)Nc2ncc(Cc3cc(C(F)(F)F)cc(C(F)(F)F...</td>\n",
       "      <td>9.70</td>\n",
       "    </tr>\n",
       "    <tr>\n",
       "      <th>617</th>\n",
       "      <td>Cc1cccc2c1CCC1(CCN(c3ccc(-c4nnc(Cc5cccnc5)o4)n...</td>\n",
       "      <td>9.70</td>\n",
       "    </tr>\n",
       "    <tr>\n",
       "      <th>618</th>\n",
       "      <td>Fc1ccc(F)c2c1CCC1(CCN(c3ccc(-c4nnc(Cc5cccnc5)o...</td>\n",
       "      <td>10.00</td>\n",
       "    </tr>\n",
       "    <tr>\n",
       "      <th>619</th>\n",
       "      <td>O=C(NC[CH](O)c1ccccc1)c1ccc(N2CCC3(CCc4ccccc4O...</td>\n",
       "      <td>10.17</td>\n",
       "    </tr>\n",
       "    <tr>\n",
       "      <th>620</th>\n",
       "      <td>Clc1cccc2c1CCC1(CCN(c3ccc(-c4nnc(Cc5cccnc5)o4)...</td>\n",
       "      <td>10.22</td>\n",
       "    </tr>\n",
       "    <tr>\n",
       "      <th>621</th>\n",
       "      <td>COc1ccc(-c2nc3ccc(NCc4ccc(Cl)c(C(F)(F)F)c4)cc3...</td>\n",
       "      <td>10.30</td>\n",
       "    </tr>\n",
       "    <tr>\n",
       "      <th>622</th>\n",
       "      <td>FC(F)(F)c1cccc2c1CCC1(CCN(c3ccc(-c4nnc(Cc5cccn...</td>\n",
       "      <td>10.52</td>\n",
       "    </tr>\n",
       "  </tbody>\n",
       "</table>\n",
       "</div>"
      ],
      "text/plain": [
       "                                                     0    Kow\n",
       "603  FC(F)(F)c1cccc2c1CCC1(CCN(c3ccc(-c4nc(Cc5cccnc...   9.00\n",
       "604         Fc1ccc(Br)c(OC2CCN(c3ncnc4[nH]cnc34)CC2)c1   9.00\n",
       "605  N#Cc1cnc(N2CCC3(CC2)CCN(Cc2cccc(C(F)(F)F)c2)c2...   9.00\n",
       "606           NC(=O)c1ccc(N2CCC(Oc3cc(F)ccc3Cl)CC2)nn1   9.00\n",
       "607           Nc1nc2cnc(N3CCC(Oc4cc(F)ccc4Br)CC3)nc2s1   9.00\n",
       "608  O=C(NC[CH](O)c1cccnc1)c1ccc(N2CCC3(CCc4c(Cl)cc...   9.00\n",
       "609   OCc1nc(-c2cnc(N3CCC(Oc4ccccc4C(F)(F)F)CC3)s2)no1   9.00\n",
       "610  c1cncc(Cc2nnc(-c3ccc(N4CCC5(CCc6ccccc6O5)CC4)n...   9.00\n",
       "611  O=C(NC[CH](O)c1ccccc1)c1ccc(N2CCC3(CC2)CC(=O)c...   9.16\n",
       "612  COc1ccc(C(=O)Nc2ncc(Cc3ccc(F)c(C(F)(F)F)c3)s2)...   9.22\n",
       "613  O=C(NC[CH](O)c1ccccc1)c1ccc(N2CCC3(CC2)Oc2cccc...   9.25\n",
       "614  O=C(NC[CH](O)c1cccnc1)c1ccc(N2CCC3(CCc4c(cccc4...   9.35\n",
       "615  CCNc1ccc(C(=O)Nc2ncc(Cc3cccc(C(F)(F)F)c3)s2)cc...   9.40\n",
       "616  COc1ccc(C(=O)Nc2ncc(Cc3cc(C(F)(F)F)cc(C(F)(F)F...   9.70\n",
       "617  Cc1cccc2c1CCC1(CCN(c3ccc(-c4nnc(Cc5cccnc5)o4)n...   9.70\n",
       "618  Fc1ccc(F)c2c1CCC1(CCN(c3ccc(-c4nnc(Cc5cccnc5)o...  10.00\n",
       "619  O=C(NC[CH](O)c1ccccc1)c1ccc(N2CCC3(CCc4ccccc4O...  10.17\n",
       "620  Clc1cccc2c1CCC1(CCN(c3ccc(-c4nnc(Cc5cccnc5)o4)...  10.22\n",
       "621  COc1ccc(-c2nc3ccc(NCc4ccc(Cl)c(C(F)(F)F)c4)cc3...  10.30\n",
       "622  FC(F)(F)c1cccc2c1CCC1(CCN(c3ccc(-c4nnc(Cc5cccn...  10.52"
      ]
     },
     "execution_count": 19,
     "metadata": {},
     "output_type": "execute_result"
    }
   ],
   "source": [
    "clean_df.tail(20)"
   ]
  },
  {
   "cell_type": "code",
   "execution_count": 20,
   "metadata": {},
   "outputs": [
    {
     "data": {
      "text/html": [
       "<div>\n",
       "<style scoped>\n",
       "    .dataframe tbody tr th:only-of-type {\n",
       "        vertical-align: middle;\n",
       "    }\n",
       "\n",
       "    .dataframe tbody tr th {\n",
       "        vertical-align: top;\n",
       "    }\n",
       "\n",
       "    .dataframe thead th {\n",
       "        text-align: right;\n",
       "    }\n",
       "</style>\n",
       "<table border=\"1\" class=\"dataframe\">\n",
       "  <thead>\n",
       "    <tr style=\"text-align: right;\">\n",
       "      <th></th>\n",
       "      <th>0</th>\n",
       "      <th>Kow</th>\n",
       "    </tr>\n",
       "  </thead>\n",
       "  <tbody>\n",
       "    <tr>\n",
       "      <th>0</th>\n",
       "      <td>O=C(O)c1ccc(N2CCC(Oc3ccccc3C(F)(F)F)CC2)nn1</td>\n",
       "      <td>5.00</td>\n",
       "    </tr>\n",
       "    <tr>\n",
       "      <th>1</th>\n",
       "      <td>O=C(NCC1CC1)c1ccc(N2CCN(C(=O)c3ccccc3C(F)(F)F)...</td>\n",
       "      <td>5.06</td>\n",
       "    </tr>\n",
       "    <tr>\n",
       "      <th>2</th>\n",
       "      <td>O=C(O)c1cncc(-c2ccc(N3CCC(Oc4ccccc4C(F)(F)F)CC...</td>\n",
       "      <td>5.07</td>\n",
       "    </tr>\n",
       "    <tr>\n",
       "      <th>3</th>\n",
       "      <td>O=C(O)CCCCCc1nc(-c2cn(Cc3cc(Br)c(Br)c(Br)c3)nn...</td>\n",
       "      <td>5.08</td>\n",
       "    </tr>\n",
       "    <tr>\n",
       "      <th>4</th>\n",
       "      <td>CC(C)(C)c1ccc(CC(=O)N2CCC3(CC2)CCN(CNC(=O)Cc2c...</td>\n",
       "      <td>5.09</td>\n",
       "    </tr>\n",
       "    <tr>\n",
       "      <th>...</th>\n",
       "      <td>...</td>\n",
       "      <td>...</td>\n",
       "    </tr>\n",
       "    <tr>\n",
       "      <th>618</th>\n",
       "      <td>Fc1ccc(F)c2c1CCC1(CCN(c3ccc(-c4nnc(Cc5cccnc5)o...</td>\n",
       "      <td>10.00</td>\n",
       "    </tr>\n",
       "    <tr>\n",
       "      <th>619</th>\n",
       "      <td>O=C(NC[CH](O)c1ccccc1)c1ccc(N2CCC3(CCc4ccccc4O...</td>\n",
       "      <td>10.17</td>\n",
       "    </tr>\n",
       "    <tr>\n",
       "      <th>620</th>\n",
       "      <td>Clc1cccc2c1CCC1(CCN(c3ccc(-c4nnc(Cc5cccnc5)o4)...</td>\n",
       "      <td>10.22</td>\n",
       "    </tr>\n",
       "    <tr>\n",
       "      <th>621</th>\n",
       "      <td>COc1ccc(-c2nc3ccc(NCc4ccc(Cl)c(C(F)(F)F)c4)cc3...</td>\n",
       "      <td>10.30</td>\n",
       "    </tr>\n",
       "    <tr>\n",
       "      <th>622</th>\n",
       "      <td>FC(F)(F)c1cccc2c1CCC1(CCN(c3ccc(-c4nnc(Cc5cccn...</td>\n",
       "      <td>10.52</td>\n",
       "    </tr>\n",
       "  </tbody>\n",
       "</table>\n",
       "<p>623 rows × 2 columns</p>\n",
       "</div>"
      ],
      "text/plain": [
       "                                                     0    Kow\n",
       "0          O=C(O)c1ccc(N2CCC(Oc3ccccc3C(F)(F)F)CC2)nn1   5.00\n",
       "1    O=C(NCC1CC1)c1ccc(N2CCN(C(=O)c3ccccc3C(F)(F)F)...   5.06\n",
       "2    O=C(O)c1cncc(-c2ccc(N3CCC(Oc4ccccc4C(F)(F)F)CC...   5.07\n",
       "3    O=C(O)CCCCCc1nc(-c2cn(Cc3cc(Br)c(Br)c(Br)c3)nn...   5.08\n",
       "4    CC(C)(C)c1ccc(CC(=O)N2CCC3(CC2)CCN(CNC(=O)Cc2c...   5.09\n",
       "..                                                 ...    ...\n",
       "618  Fc1ccc(F)c2c1CCC1(CCN(c3ccc(-c4nnc(Cc5cccnc5)o...  10.00\n",
       "619  O=C(NC[CH](O)c1ccccc1)c1ccc(N2CCC3(CCc4ccccc4O...  10.17\n",
       "620  Clc1cccc2c1CCC1(CCN(c3ccc(-c4nnc(Cc5cccnc5)o4)...  10.22\n",
       "621  COc1ccc(-c2nc3ccc(NCc4ccc(Cl)c(C(F)(F)F)c4)cc3...  10.30\n",
       "622  FC(F)(F)c1cccc2c1CCC1(CCN(c3ccc(-c4nnc(Cc5cccn...  10.52\n",
       "\n",
       "[623 rows x 2 columns]"
      ]
     },
     "execution_count": 20,
     "metadata": {},
     "output_type": "execute_result"
    }
   ],
   "source": [
    "clean_df.drop_duplicates()"
   ]
  },
  {
   "cell_type": "code",
   "execution_count": 21,
   "metadata": {},
   "outputs": [],
   "source": [
    "clean_df.columns = ['SMILES','pIC50']"
   ]
  },
  {
   "cell_type": "code",
   "execution_count": 22,
   "metadata": {},
   "outputs": [
    {
     "data": {
      "text/html": [
       "<div>\n",
       "<style scoped>\n",
       "    .dataframe tbody tr th:only-of-type {\n",
       "        vertical-align: middle;\n",
       "    }\n",
       "\n",
       "    .dataframe tbody tr th {\n",
       "        vertical-align: top;\n",
       "    }\n",
       "\n",
       "    .dataframe thead th {\n",
       "        text-align: right;\n",
       "    }\n",
       "</style>\n",
       "<table border=\"1\" class=\"dataframe\">\n",
       "  <thead>\n",
       "    <tr style=\"text-align: right;\">\n",
       "      <th></th>\n",
       "      <th>SMILES</th>\n",
       "      <th>pIC50</th>\n",
       "    </tr>\n",
       "  </thead>\n",
       "  <tbody>\n",
       "    <tr>\n",
       "      <th>0</th>\n",
       "      <td>O=C(O)c1ccc(N2CCC(Oc3ccccc3C(F)(F)F)CC2)nn1</td>\n",
       "      <td>5.00</td>\n",
       "    </tr>\n",
       "    <tr>\n",
       "      <th>1</th>\n",
       "      <td>O=C(NCC1CC1)c1ccc(N2CCN(C(=O)c3ccccc3C(F)(F)F)...</td>\n",
       "      <td>5.06</td>\n",
       "    </tr>\n",
       "    <tr>\n",
       "      <th>2</th>\n",
       "      <td>O=C(O)c1cncc(-c2ccc(N3CCC(Oc4ccccc4C(F)(F)F)CC...</td>\n",
       "      <td>5.07</td>\n",
       "    </tr>\n",
       "    <tr>\n",
       "      <th>3</th>\n",
       "      <td>O=C(O)CCCCCc1nc(-c2cn(Cc3cc(Br)c(Br)c(Br)c3)nn...</td>\n",
       "      <td>5.08</td>\n",
       "    </tr>\n",
       "    <tr>\n",
       "      <th>4</th>\n",
       "      <td>CC(C)(C)c1ccc(CC(=O)N2CCC3(CC2)CCN(CNC(=O)Cc2c...</td>\n",
       "      <td>5.09</td>\n",
       "    </tr>\n",
       "  </tbody>\n",
       "</table>\n",
       "</div>"
      ],
      "text/plain": [
       "                                              SMILES  pIC50\n",
       "0        O=C(O)c1ccc(N2CCC(Oc3ccccc3C(F)(F)F)CC2)nn1   5.00\n",
       "1  O=C(NCC1CC1)c1ccc(N2CCN(C(=O)c3ccccc3C(F)(F)F)...   5.06\n",
       "2  O=C(O)c1cncc(-c2ccc(N3CCC(Oc4ccccc4C(F)(F)F)CC...   5.07\n",
       "3  O=C(O)CCCCCc1nc(-c2cn(Cc3cc(Br)c(Br)c(Br)c3)nn...   5.08\n",
       "4  CC(C)(C)c1ccc(CC(=O)N2CCC3(CC2)CCN(CNC(=O)Cc2c...   5.09"
      ]
     },
     "execution_count": 22,
     "metadata": {},
     "output_type": "execute_result"
    }
   ],
   "source": [
    "clean_df.head()"
   ]
  },
  {
   "cell_type": "code",
   "execution_count": 23,
   "metadata": {},
   "outputs": [],
   "source": [
    "smile_len = clean_df['SMILES'].str.len()"
   ]
  },
  {
   "cell_type": "code",
   "execution_count": 24,
   "metadata": {},
   "outputs": [],
   "source": [
    "clean_df = pd.concat([clean_df, smile_len], axis = 1)"
   ]
  },
  {
   "cell_type": "code",
   "execution_count": 25,
   "metadata": {},
   "outputs": [
    {
     "data": {
      "text/html": [
       "<div>\n",
       "<style scoped>\n",
       "    .dataframe tbody tr th:only-of-type {\n",
       "        vertical-align: middle;\n",
       "    }\n",
       "\n",
       "    .dataframe tbody tr th {\n",
       "        vertical-align: top;\n",
       "    }\n",
       "\n",
       "    .dataframe thead th {\n",
       "        text-align: right;\n",
       "    }\n",
       "</style>\n",
       "<table border=\"1\" class=\"dataframe\">\n",
       "  <thead>\n",
       "    <tr style=\"text-align: right;\">\n",
       "      <th></th>\n",
       "      <th>SMILES</th>\n",
       "      <th>pIC50</th>\n",
       "      <th>SMILES</th>\n",
       "    </tr>\n",
       "  </thead>\n",
       "  <tbody>\n",
       "    <tr>\n",
       "      <th>0</th>\n",
       "      <td>O=C(O)c1ccc(N2CCC(Oc3ccccc3C(F)(F)F)CC2)nn1</td>\n",
       "      <td>5.00</td>\n",
       "      <td>43</td>\n",
       "    </tr>\n",
       "    <tr>\n",
       "      <th>1</th>\n",
       "      <td>O=C(NCC1CC1)c1ccc(N2CCN(C(=O)c3ccccc3C(F)(F)F)...</td>\n",
       "      <td>5.06</td>\n",
       "      <td>53</td>\n",
       "    </tr>\n",
       "    <tr>\n",
       "      <th>2</th>\n",
       "      <td>O=C(O)c1cncc(-c2ccc(N3CCC(Oc4ccccc4C(F)(F)F)CC...</td>\n",
       "      <td>5.07</td>\n",
       "      <td>54</td>\n",
       "    </tr>\n",
       "    <tr>\n",
       "      <th>3</th>\n",
       "      <td>O=C(O)CCCCCc1nc(-c2cn(Cc3cc(Br)c(Br)c(Br)c3)nn...</td>\n",
       "      <td>5.08</td>\n",
       "      <td>51</td>\n",
       "    </tr>\n",
       "    <tr>\n",
       "      <th>4</th>\n",
       "      <td>CC(C)(C)c1ccc(CC(=O)N2CCC3(CC2)CCN(CNC(=O)Cc2c...</td>\n",
       "      <td>5.09</td>\n",
       "      <td>66</td>\n",
       "    </tr>\n",
       "  </tbody>\n",
       "</table>\n",
       "</div>"
      ],
      "text/plain": [
       "                                              SMILES  pIC50  SMILES\n",
       "0        O=C(O)c1ccc(N2CCC(Oc3ccccc3C(F)(F)F)CC2)nn1   5.00      43\n",
       "1  O=C(NCC1CC1)c1ccc(N2CCN(C(=O)c3ccccc3C(F)(F)F)...   5.06      53\n",
       "2  O=C(O)c1cncc(-c2ccc(N3CCC(Oc4ccccc4C(F)(F)F)CC...   5.07      54\n",
       "3  O=C(O)CCCCCc1nc(-c2cn(Cc3cc(Br)c(Br)c(Br)c3)nn...   5.08      51\n",
       "4  CC(C)(C)c1ccc(CC(=O)N2CCC3(CC2)CCN(CNC(=O)Cc2c...   5.09      66"
      ]
     },
     "execution_count": 25,
     "metadata": {},
     "output_type": "execute_result"
    }
   ],
   "source": [
    "clean_df.head()"
   ]
  },
  {
   "cell_type": "code",
   "execution_count": 26,
   "metadata": {},
   "outputs": [],
   "source": [
    "clean_df.columns = ['SMILES','pIC50','smile_len']"
   ]
  },
  {
   "cell_type": "code",
   "execution_count": 27,
   "metadata": {},
   "outputs": [
    {
     "data": {
      "text/plain": [
       "623"
      ]
     },
     "execution_count": 27,
     "metadata": {},
     "output_type": "execute_result"
    }
   ],
   "source": [
    "len(clean_df)"
   ]
  },
  {
   "cell_type": "code",
   "execution_count": 28,
   "metadata": {},
   "outputs": [],
   "source": [
    "clean_df.drop(clean_df[clean_df['smile_len'] > 65].index, inplace = True)"
   ]
  },
  {
   "cell_type": "code",
   "execution_count": 29,
   "metadata": {},
   "outputs": [
    {
     "data": {
      "text/plain": [
       "615"
      ]
     },
     "execution_count": 29,
     "metadata": {},
     "output_type": "execute_result"
    }
   ],
   "source": [
    "len(clean_df)"
   ]
  },
  {
   "cell_type": "code",
   "execution_count": 31,
   "metadata": {},
   "outputs": [],
   "source": [
    "clean_df.reset_index(drop=True, inplace=True)"
   ]
  },
  {
   "cell_type": "code",
   "execution_count": 32,
   "metadata": {},
   "outputs": [
    {
     "data": {
      "text/html": [
       "<div>\n",
       "<style scoped>\n",
       "    .dataframe tbody tr th:only-of-type {\n",
       "        vertical-align: middle;\n",
       "    }\n",
       "\n",
       "    .dataframe tbody tr th {\n",
       "        vertical-align: top;\n",
       "    }\n",
       "\n",
       "    .dataframe thead th {\n",
       "        text-align: right;\n",
       "    }\n",
       "</style>\n",
       "<table border=\"1\" class=\"dataframe\">\n",
       "  <thead>\n",
       "    <tr style=\"text-align: right;\">\n",
       "      <th></th>\n",
       "      <th>SMILES</th>\n",
       "      <th>pIC50</th>\n",
       "      <th>smile_len</th>\n",
       "    </tr>\n",
       "  </thead>\n",
       "  <tbody>\n",
       "    <tr>\n",
       "      <th>595</th>\n",
       "      <td>Cc1cccc2c1CCC1(CCN(c3ccc(C(=O)NC[CH](O)c4cccnc...</td>\n",
       "      <td>9.00</td>\n",
       "      <td>58</td>\n",
       "    </tr>\n",
       "    <tr>\n",
       "      <th>596</th>\n",
       "      <td>FC(F)(F)c1cccc2c1CCC1(CCN(c3ccc(-c4nc(Cc5cccnc...</td>\n",
       "      <td>9.00</td>\n",
       "      <td>65</td>\n",
       "    </tr>\n",
       "    <tr>\n",
       "      <th>597</th>\n",
       "      <td>Fc1ccc(Br)c(OC2CCN(c3ncnc4[nH]cnc34)CC2)c1</td>\n",
       "      <td>9.00</td>\n",
       "      <td>42</td>\n",
       "    </tr>\n",
       "    <tr>\n",
       "      <th>598</th>\n",
       "      <td>N#Cc1cnc(N2CCC3(CC2)CCN(Cc2cccc(C(F)(F)F)c2)c2...</td>\n",
       "      <td>9.00</td>\n",
       "      <td>57</td>\n",
       "    </tr>\n",
       "    <tr>\n",
       "      <th>599</th>\n",
       "      <td>NC(=O)c1ccc(N2CCC(Oc3cc(F)ccc3Cl)CC2)nn1</td>\n",
       "      <td>9.00</td>\n",
       "      <td>40</td>\n",
       "    </tr>\n",
       "    <tr>\n",
       "      <th>600</th>\n",
       "      <td>Nc1nc2cnc(N3CCC(Oc4cc(F)ccc4Br)CC3)nc2s1</td>\n",
       "      <td>9.00</td>\n",
       "      <td>40</td>\n",
       "    </tr>\n",
       "    <tr>\n",
       "      <th>601</th>\n",
       "      <td>O=C(NC[CH](O)c1cccnc1)c1ccc(N2CCC3(CCc4c(Cl)cc...</td>\n",
       "      <td>9.00</td>\n",
       "      <td>59</td>\n",
       "    </tr>\n",
       "    <tr>\n",
       "      <th>602</th>\n",
       "      <td>OCc1nc(-c2cnc(N3CCC(Oc4ccccc4C(F)(F)F)CC3)s2)no1</td>\n",
       "      <td>9.00</td>\n",
       "      <td>48</td>\n",
       "    </tr>\n",
       "    <tr>\n",
       "      <th>603</th>\n",
       "      <td>c1cncc(Cc2nnc(-c3ccc(N4CCC5(CCc6ccccc6O5)CC4)n...</td>\n",
       "      <td>9.00</td>\n",
       "      <td>54</td>\n",
       "    </tr>\n",
       "    <tr>\n",
       "      <th>604</th>\n",
       "      <td>O=C(NC[CH](O)c1ccccc1)c1ccc(N2CCC3(CC2)CC(=O)c...</td>\n",
       "      <td>9.16</td>\n",
       "      <td>59</td>\n",
       "    </tr>\n",
       "    <tr>\n",
       "      <th>605</th>\n",
       "      <td>COc1ccc(C(=O)Nc2ncc(Cc3ccc(F)c(C(F)(F)F)c3)s2)...</td>\n",
       "      <td>9.22</td>\n",
       "      <td>53</td>\n",
       "    </tr>\n",
       "    <tr>\n",
       "      <th>606</th>\n",
       "      <td>O=C(NC[CH](O)c1ccccc1)c1ccc(N2CCC3(CC2)Oc2cccc...</td>\n",
       "      <td>9.25</td>\n",
       "      <td>59</td>\n",
       "    </tr>\n",
       "    <tr>\n",
       "      <th>607</th>\n",
       "      <td>O=C(NC[CH](O)c1cccnc1)c1ccc(N2CCC3(CCc4c(cccc4...</td>\n",
       "      <td>9.35</td>\n",
       "      <td>65</td>\n",
       "    </tr>\n",
       "    <tr>\n",
       "      <th>608</th>\n",
       "      <td>CCNc1ccc(C(=O)Nc2ncc(Cc3cccc(C(F)(F)F)c3)s2)cc...</td>\n",
       "      <td>9.40</td>\n",
       "      <td>51</td>\n",
       "    </tr>\n",
       "    <tr>\n",
       "      <th>609</th>\n",
       "      <td>COc1ccc(C(=O)Nc2ncc(Cc3cc(C(F)(F)F)cc(C(F)(F)F...</td>\n",
       "      <td>9.70</td>\n",
       "      <td>60</td>\n",
       "    </tr>\n",
       "    <tr>\n",
       "      <th>610</th>\n",
       "      <td>Cc1cccc2c1CCC1(CCN(c3ccc(-c4nnc(Cc5cccnc5)o4)n...</td>\n",
       "      <td>9.70</td>\n",
       "      <td>55</td>\n",
       "    </tr>\n",
       "    <tr>\n",
       "      <th>611</th>\n",
       "      <td>Fc1ccc(F)c2c1CCC1(CCN(c3ccc(-c4nnc(Cc5cccnc5)o...</td>\n",
       "      <td>10.00</td>\n",
       "      <td>58</td>\n",
       "    </tr>\n",
       "    <tr>\n",
       "      <th>612</th>\n",
       "      <td>O=C(NC[CH](O)c1ccccc1)c1ccc(N2CCC3(CCc4ccccc4O...</td>\n",
       "      <td>10.17</td>\n",
       "      <td>55</td>\n",
       "    </tr>\n",
       "    <tr>\n",
       "      <th>613</th>\n",
       "      <td>Clc1cccc2c1CCC1(CCN(c3ccc(-c4nnc(Cc5cccnc5)o4)...</td>\n",
       "      <td>10.22</td>\n",
       "      <td>56</td>\n",
       "    </tr>\n",
       "    <tr>\n",
       "      <th>614</th>\n",
       "      <td>FC(F)(F)c1cccc2c1CCC1(CCN(c3ccc(-c4nnc(Cc5cccn...</td>\n",
       "      <td>10.52</td>\n",
       "      <td>62</td>\n",
       "    </tr>\n",
       "  </tbody>\n",
       "</table>\n",
       "</div>"
      ],
      "text/plain": [
       "                                                SMILES  pIC50  smile_len\n",
       "595  Cc1cccc2c1CCC1(CCN(c3ccc(C(=O)NC[CH](O)c4cccnc...   9.00         58\n",
       "596  FC(F)(F)c1cccc2c1CCC1(CCN(c3ccc(-c4nc(Cc5cccnc...   9.00         65\n",
       "597         Fc1ccc(Br)c(OC2CCN(c3ncnc4[nH]cnc34)CC2)c1   9.00         42\n",
       "598  N#Cc1cnc(N2CCC3(CC2)CCN(Cc2cccc(C(F)(F)F)c2)c2...   9.00         57\n",
       "599           NC(=O)c1ccc(N2CCC(Oc3cc(F)ccc3Cl)CC2)nn1   9.00         40\n",
       "600           Nc1nc2cnc(N3CCC(Oc4cc(F)ccc4Br)CC3)nc2s1   9.00         40\n",
       "601  O=C(NC[CH](O)c1cccnc1)c1ccc(N2CCC3(CCc4c(Cl)cc...   9.00         59\n",
       "602   OCc1nc(-c2cnc(N3CCC(Oc4ccccc4C(F)(F)F)CC3)s2)no1   9.00         48\n",
       "603  c1cncc(Cc2nnc(-c3ccc(N4CCC5(CCc6ccccc6O5)CC4)n...   9.00         54\n",
       "604  O=C(NC[CH](O)c1ccccc1)c1ccc(N2CCC3(CC2)CC(=O)c...   9.16         59\n",
       "605  COc1ccc(C(=O)Nc2ncc(Cc3ccc(F)c(C(F)(F)F)c3)s2)...   9.22         53\n",
       "606  O=C(NC[CH](O)c1ccccc1)c1ccc(N2CCC3(CC2)Oc2cccc...   9.25         59\n",
       "607  O=C(NC[CH](O)c1cccnc1)c1ccc(N2CCC3(CCc4c(cccc4...   9.35         65\n",
       "608  CCNc1ccc(C(=O)Nc2ncc(Cc3cccc(C(F)(F)F)c3)s2)cc...   9.40         51\n",
       "609  COc1ccc(C(=O)Nc2ncc(Cc3cc(C(F)(F)F)cc(C(F)(F)F...   9.70         60\n",
       "610  Cc1cccc2c1CCC1(CCN(c3ccc(-c4nnc(Cc5cccnc5)o4)n...   9.70         55\n",
       "611  Fc1ccc(F)c2c1CCC1(CCN(c3ccc(-c4nnc(Cc5cccnc5)o...  10.00         58\n",
       "612  O=C(NC[CH](O)c1ccccc1)c1ccc(N2CCC3(CCc4ccccc4O...  10.17         55\n",
       "613  Clc1cccc2c1CCC1(CCN(c3ccc(-c4nnc(Cc5cccnc5)o4)...  10.22         56\n",
       "614  FC(F)(F)c1cccc2c1CCC1(CCN(c3ccc(-c4nnc(Cc5cccn...  10.52         62"
      ]
     },
     "execution_count": 32,
     "metadata": {},
     "output_type": "execute_result"
    }
   ],
   "source": [
    "clean_df.tail(20)"
   ]
  },
  {
   "cell_type": "code",
   "execution_count": 33,
   "metadata": {},
   "outputs": [],
   "source": [
    "clean_df.drop(labels = 'smile_len', axis = 1, inplace = True)"
   ]
  },
  {
   "cell_type": "code",
   "execution_count": 34,
   "metadata": {},
   "outputs": [],
   "source": [
    "clean_df.to_csv('SCD1_reg_release.csv', index = False)"
   ]
  },
  {
   "cell_type": "code",
   "execution_count": null,
   "metadata": {},
   "outputs": [],
   "source": []
  }
 ],
 "metadata": {
  "kernelspec": {
   "display_name": "Python 3 (ipykernel)",
   "language": "python",
   "name": "python3"
  },
  "language_info": {
   "codemirror_mode": {
    "name": "ipython",
    "version": 3
   },
   "file_extension": ".py",
   "mimetype": "text/x-python",
   "name": "python",
   "nbconvert_exporter": "python",
   "pygments_lexer": "ipython3",
   "version": "3.10.9"
  }
 },
 "nbformat": 4,
 "nbformat_minor": 4
}
